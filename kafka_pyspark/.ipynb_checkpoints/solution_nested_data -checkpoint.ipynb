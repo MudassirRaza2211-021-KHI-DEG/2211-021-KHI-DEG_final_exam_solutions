{
 "cells": [
  {
   "cell_type": "code",
   "execution_count": 11,
   "id": "419e4b08-6002-4d60-be3a-cf96361d3dfc",
   "metadata": {},
   "outputs": [],
   "source": [
    "import pyspark"
   ]
  },
  {
   "cell_type": "code",
   "execution_count": 12,
   "id": "136e55be-c40a-4431-ba0b-a77b438afa8b",
   "metadata": {},
   "outputs": [],
   "source": [
    "from pyspark.sql import SparkSession\n",
    "import pyspark.sql.functions as F\n"
   ]
  },
  {
   "cell_type": "code",
   "execution_count": 13,
   "id": "31bea066-e5e1-4219-977e-b5431376c30f",
   "metadata": {},
   "outputs": [],
   "source": [
    " spark = (\n",
    "    SparkSession.builder.master(\"local[1]\")\n",
    "    .appName(\"data preparation\")\n",
    "    .config(\"spark.jars.packages\", \"org.apache.spark:spark-sql-kafka-0-10_2.12:3.3.1\")\n",
    "    .getOrCreate()\n",
    ")"
   ]
  },
  {
   "cell_type": "code",
   "execution_count": 14,
   "id": "9eded4cc-86d8-4493-9114-8df16f29651b",
   "metadata": {},
   "outputs": [
    {
     "data": {
      "text/html": [
       "\n",
       "            <div>\n",
       "                <p><b>SparkSession - in-memory</b></p>\n",
       "                \n",
       "        <div>\n",
       "            <p><b>SparkContext</b></p>\n",
       "\n",
       "            <p><a href=\"http://192.168.0.143:4040\">Spark UI</a></p>\n",
       "\n",
       "            <dl>\n",
       "              <dt>Version</dt>\n",
       "                <dd><code>v3.3.1</code></dd>\n",
       "              <dt>Master</dt>\n",
       "                <dd><code>local[1]</code></dd>\n",
       "              <dt>AppName</dt>\n",
       "                <dd><code>data preparation</code></dd>\n",
       "            </dl>\n",
       "        </div>\n",
       "        \n",
       "            </div>\n",
       "        "
      ],
      "text/plain": [
       "<pyspark.sql.session.SparkSession at 0x7f590c1e3790>"
      ]
     },
     "execution_count": 14,
     "metadata": {},
     "output_type": "execute_result"
    }
   ],
   "source": [
    "spark"
   ]
  },
  {
   "cell_type": "code",
   "execution_count": 15,
   "id": "f8cb8c0f-a4df-43e4-bdd0-ed5b4952ab62",
   "metadata": {},
   "outputs": [
    {
     "name": "stdout",
     "output_type": "stream",
     "text": [
      "root\n",
      " |-- key: binary (nullable = true)\n",
      " |-- value: binary (nullable = true)\n",
      " |-- topic: string (nullable = true)\n",
      " |-- partition: integer (nullable = true)\n",
      " |-- offset: long (nullable = true)\n",
      " |-- timestamp: timestamp (nullable = true)\n",
      " |-- timestampType: integer (nullable = true)\n",
      "\n"
     ]
    }
   ],
   "source": [
    "df = spark \\\n",
    "  .read \\\n",
    "  .format(\"kafka\") \\\n",
    "  .option(\"kafka.bootstrap.servers\", \"localhost:9092\") \\\n",
    "  .option(\"subscribe\", \"topic_nested\") \\\n",
    "  .load()\n",
    "# df.selectExpr(\"CAST(key AS STRING)\", \"CAST(value AS STRING)\").select(\"value\").toPandas()\n",
    "df.printSchema() "
   ]
  },
  {
   "cell_type": "code",
   "execution_count": 16,
   "id": "8cc1d0fe-be6d-44ae-9a92-43b0cfe8d090",
   "metadata": {},
   "outputs": [
    {
     "name": "stdout",
     "output_type": "stream",
     "text": [
      "+----+--------------------+------------+---------+------+--------------------+-------------+\n",
      "| key|               value|       topic|partition|offset|           timestamp|timestampType|\n",
      "+----+--------------------+------------+---------+------+--------------------+-------------+\n",
      "|null|[7B 22 54 69 6D 6...|topic_nested|        0|     0|2023-02-23 13:20:...|            0|\n",
      "|null|[7B 22 54 69 6D 6...|topic_nested|        0|     1|2023-02-23 13:20:...|            0|\n",
      "|null|[7B 22 54 69 6D 6...|topic_nested|        0|     2|2023-02-23 13:20:...|            0|\n",
      "|null|[7B 22 54 69 6D 6...|topic_nested|        0|     3|2023-02-23 13:20:...|            0|\n",
      "|null|[7B 22 54 69 6D 6...|topic_nested|        0|     4|2023-02-23 13:20:...|            0|\n",
      "|null|[7B 22 54 69 6D 6...|topic_nested|        0|     5|2023-02-23 13:20:...|            0|\n",
      "|null|[7B 22 54 69 6D 6...|topic_nested|        0|     6|2023-02-23 13:20:...|            0|\n",
      "|null|[7B 22 54 69 6D 6...|topic_nested|        0|     7|2023-02-23 13:20:...|            0|\n",
      "|null|[7B 22 54 69 6D 6...|topic_nested|        0|     8|2023-02-23 13:20:...|            0|\n",
      "|null|[7B 22 54 69 6D 6...|topic_nested|        0|     9|2023-02-23 13:20:...|            0|\n",
      "|null|[7B 22 54 69 6D 6...|topic_nested|        0|    10|2023-02-23 13:20:...|            0|\n",
      "|null|[7B 22 54 69 6D 6...|topic_nested|        0|    11|2023-02-23 13:20:...|            0|\n",
      "|null|[7B 22 54 69 6D 6...|topic_nested|        0|    12|2023-02-23 13:20:...|            0|\n",
      "|null|[7B 22 54 69 6D 6...|topic_nested|        0|    13|2023-02-23 13:20:...|            0|\n",
      "|null|[7B 22 54 69 6D 6...|topic_nested|        0|    14|2023-02-23 13:20:...|            0|\n",
      "|null|[7B 22 54 69 6D 6...|topic_nested|        0|    15|2023-02-23 13:20:...|            0|\n",
      "|null|[7B 22 54 69 6D 6...|topic_nested|        0|    16|2023-02-23 13:20:...|            0|\n",
      "|null|[7B 22 54 69 6D 6...|topic_nested|        0|    17|2023-02-23 13:20:...|            0|\n",
      "|null|[7B 22 54 69 6D 6...|topic_nested|        0|    18|2023-02-23 13:20:...|            0|\n",
      "|null|[7B 22 54 69 6D 6...|topic_nested|        0|    19|2023-02-23 13:20:...|            0|\n",
      "+----+--------------------+------------+---------+------+--------------------+-------------+\n",
      "only showing top 20 rows\n",
      "\n"
     ]
    }
   ],
   "source": [
    "df.show()\n",
    "# spark.stop()"
   ]
  },
  {
   "cell_type": "code",
   "execution_count": 17,
   "id": "333c7d2a-ebad-464c-b713-a6ce11c745cd",
   "metadata": {},
   "outputs": [
    {
     "data": {
      "text/plain": [
       "5346"
      ]
     },
     "execution_count": 17,
     "metadata": {},
     "output_type": "execute_result"
    }
   ],
   "source": [
    "df.count()"
   ]
  },
  {
   "cell_type": "code",
   "execution_count": 43,
   "id": "d5980589-caed-424b-99ef-1527175c0c76",
   "metadata": {},
   "outputs": [],
   "source": [
    "from pyspark.sql.types import StructType, StructField, StringType, IntegerType, DoubleType, TimestampType, FloatType\n",
    "\n",
    "\n",
    "schema=(StructType([\n",
    "  StructField(\"Timestamp\", StringType(), True),\n",
    "  StructField(\"string_columns\", StructType([\n",
    "    StructField(\"Name\", StringType(), True),\n",
    "    StructField(\"Sex\", StringType(), True),\n",
    "    StructField(\"Age\", StringType(), True),\n",
    "    StructField(\"Ticket\", StringType(), True),\n",
    "    StructField(\"Fare\", StringType(), True),\n",
    "    StructField(\"Cabin\", StringType(), True),\n",
    "    StructField(\"Embarked\", StringType(), True)\n",
    "  ]), True),\n",
    "  StructField(\"numeric_columns\", StructType([\n",
    "    StructField(\"PassengerId\", IntegerType(), True),\n",
    "    StructField(\"Survived\", IntegerType(), True),\n",
    "    StructField(\"Pclass\", IntegerType(), True),\n",
    "    StructField(\"SibSp\", IntegerType(), True),\n",
    "    StructField(\"Parch\", IntegerType(), True)\n",
    "  ]), True)\n",
    "])\n",
    "       )"
   ]
  },
  {
   "cell_type": "code",
   "execution_count": 19,
   "id": "d88eee9f-a592-477d-a507-6b605d25b173",
   "metadata": {},
   "outputs": [],
   "source": [
    "df2 = df.withColumn(\"message_content\", F.from_json(F.col(\"value\").cast(\"string\"), schema))\n",
    "# df.printSchema()\n",
    "# df_minimal = df.select(\"message_content.*\") \n",
    "# df_minimal.printSchema()\n"
   ]
  },
  {
   "cell_type": "code",
   "execution_count": 20,
   "id": "3ef5c451-d70c-4d88-a9bd-3c5174c2b6a9",
   "metadata": {},
   "outputs": [],
   "source": [
    "df_minimal = df2.select(\"message_content.*\")"
   ]
  },
  {
   "cell_type": "code",
   "execution_count": 21,
   "id": "2c956f82-95ec-492f-b7d0-3534b4a2f123",
   "metadata": {},
   "outputs": [
    {
     "name": "stdout",
     "output_type": "stream",
     "text": [
      "+--------------------+--------------------+----------------+\n",
      "|           Timestamp|      string_columns| numeric_columns|\n",
      "+--------------------+--------------------+----------------+\n",
      "|2020-01-01T13:45:...|{Braund, Mr. Owen...| {1, 0, 3, 1, 0}|\n",
      "|2020-01-01T13:44:...|{Cumings, Mrs. Jo...| {2, 1, 1, 1, 0}|\n",
      "|2020-01-01T13:38:...|{Heikkinen, Miss....| {3, 1, 3, 0, 0}|\n",
      "|2020-01-01T13:32:...|{Futrelle, Mrs. J...| {4, 1, 1, 1, 0}|\n",
      "|2020-01-01T13:36:...|{Allen, Mr. Willi...| {5, 0, 3, 0, 0}|\n",
      "|2020-01-01T13:31:...|{Moran, Mr. James...| {6, 0, 3, 0, 0}|\n",
      "|2020-01-01T13:37:...|{McCarthy, Mr. Ti...| {7, 0, 1, 0, 0}|\n",
      "|2020-01-01T13:49:...|{Palsson, Master....| {8, 0, 3, 3, 1}|\n",
      "|2020-01-01T13:33:...|{Johnson, Mrs. Os...| {9, 1, 3, 0, 2}|\n",
      "|2020-01-01T13:32:...|{Nasser, Mrs. Nic...|{10, 1, 2, 1, 0}|\n",
      "|2020-01-01T13:32:...|{Sandstrom, Miss....|{11, 1, 3, 1, 1}|\n",
      "|2020-01-01T13:30:...|{Bonnell, Miss. E...|{12, 1, 1, 0, 0}|\n",
      "|2020-01-01T13:33:...|{Saundercock, Mr....|{13, 0, 3, 0, 0}|\n",
      "|2020-01-01T13:30:...|{Andersson, Mr. A...|{14, 0, 3, 1, 5}|\n",
      "|2020-01-01T13:41:...|{Vestrom, Miss. H...|{15, 0, 3, 0, 0}|\n",
      "|2020-01-01T13:34:...|{Hewlett, Mrs. (M...|{16, 1, 2, 0, 0}|\n",
      "|2020-01-01T13:41:...|{Rice, Master. Eu...|{17, 0, 3, 4, 1}|\n",
      "|2020-01-01T13:39:...|{Williams, Mr. Ch...|{18, 1, 2, 0, 0}|\n",
      "|2020-01-01T13:39:...|{Vander Planke, M...|{19, 0, 3, 1, 0}|\n",
      "|2020-01-01T13:36:...|{Masselmani, Mrs....|{20, 1, 3, 0, 0}|\n",
      "+--------------------+--------------------+----------------+\n",
      "only showing top 20 rows\n",
      "\n"
     ]
    }
   ],
   "source": [
    "df_minimal.show()"
   ]
  },
  {
   "cell_type": "code",
   "execution_count": 31,
   "id": "b1f162f9-2415-49f5-a781-cfffefab7310",
   "metadata": {},
   "outputs": [
    {
     "name": "stdout",
     "output_type": "stream",
     "text": [
      "root\n",
      " |-- Timestamp: string (nullable = true)\n",
      " |-- Name: string (nullable = true)\n",
      " |-- Sex: string (nullable = true)\n",
      " |-- Age: string (nullable = true)\n",
      " |-- Ticket: string (nullable = true)\n",
      " |-- Fare: string (nullable = true)\n",
      " |-- Cabin: string (nullable = true)\n",
      " |-- Embarked: string (nullable = true)\n",
      " |-- PassengerId: integer (nullable = true)\n",
      " |-- Survived: integer (nullable = true)\n",
      " |-- Pclass: integer (nullable = true)\n",
      " |-- SibSp: integer (nullable = true)\n",
      " |-- Parch: integer (nullable = true)\n",
      "\n"
     ]
    }
   ],
   "source": [
    "df2=df_minimal.select(\"Timestamp\",\"string_columns.*\",\"numeric_columns.*\")\n",
    "df2.printSchema()"
   ]
  },
  {
   "cell_type": "code",
   "execution_count": 32,
   "id": "37ae21ee-1c77-4590-8b60-617d4bd5b172",
   "metadata": {},
   "outputs": [
    {
     "name": "stdout",
     "output_type": "stream",
     "text": [
      "+--------------------+--------------------+------+----+----------------+-------+-----+--------+-----------+--------+------+-----+-----+\n",
      "|           Timestamp|                Name|   Sex| Age|          Ticket|   Fare|Cabin|Embarked|PassengerId|Survived|Pclass|SibSp|Parch|\n",
      "+--------------------+--------------------+------+----+----------------+-------+-----+--------+-----------+--------+------+-----+-----+\n",
      "|2020-01-01T13:45:...|Braund, Mr. Owen ...|  male|  22|       A/5 21171|   7.25| null|       S|          1|       0|     3|    1|    0|\n",
      "|2020-01-01T13:44:...|Cumings, Mrs. Joh...|female|  38|        PC 17599|71.2833|  C85|       C|          2|       1|     1|    1|    0|\n",
      "|2020-01-01T13:38:...|Heikkinen, Miss. ...|female|  26|STON/O2. 3101282|  7.925| null|       S|          3|       1|     3|    0|    0|\n",
      "|2020-01-01T13:32:...|Futrelle, Mrs. Ja...|female|  35|          113803|   53.1| C123|       S|          4|       1|     1|    1|    0|\n",
      "|2020-01-01T13:36:...|Allen, Mr. Willia...|  male|  35|          373450|   8.05| null|       S|          5|       0|     3|    0|    0|\n",
      "|2020-01-01T13:31:...|    Moran, Mr. James|  male|null|          330877| 8.4583| null|       Q|          6|       0|     3|    0|    0|\n",
      "|2020-01-01T13:37:...|McCarthy, Mr. Tim...|  male|  54|           17463|51.8625|  E46|       S|          7|       0|     1|    0|    0|\n",
      "|2020-01-01T13:49:...|Palsson, Master. ...|  male|   2|          349909| 21.075| null|       S|          8|       0|     3|    3|    1|\n",
      "|2020-01-01T13:33:...|Johnson, Mrs. Osc...|female|  27|          347742|11.1333| null|       S|          9|       1|     3|    0|    2|\n",
      "|2020-01-01T13:32:...|Nasser, Mrs. Nich...|female|  14|          237736|30.0708| null|       C|         10|       1|     2|    1|    0|\n",
      "|2020-01-01T13:32:...|Sandstrom, Miss. ...|female|   4|         PP 9549|   16.7|   G6|       S|         11|       1|     3|    1|    1|\n",
      "|2020-01-01T13:30:...|Bonnell, Miss. El...|female|  58|          113783|  26.55| C103|       S|         12|       1|     1|    0|    0|\n",
      "|2020-01-01T13:33:...|Saundercock, Mr. ...|  male|  20|       A/5. 2151|   8.05| null|       S|         13|       0|     3|    0|    0|\n",
      "|2020-01-01T13:30:...|Andersson, Mr. An...|  male|  39|          347082| 31.275| null|       S|         14|       0|     3|    1|    5|\n",
      "|2020-01-01T13:41:...|Vestrom, Miss. Hu...|female|  14|          350406| 7.8542| null|       S|         15|       0|     3|    0|    0|\n",
      "|2020-01-01T13:34:...|Hewlett, Mrs. (Ma...|female|  55|          248706|   16.0| null|       S|         16|       1|     2|    0|    0|\n",
      "|2020-01-01T13:41:...|Rice, Master. Eugene|  male|   2|          382652| 29.125| null|       Q|         17|       0|     3|    4|    1|\n",
      "|2020-01-01T13:39:...|Williams, Mr. Cha...|  male|null|          244373|   13.0| null|       S|         18|       1|     2|    0|    0|\n",
      "|2020-01-01T13:39:...|Vander Planke, Mr...|female|  31|          345763|   18.0| null|       S|         19|       0|     3|    1|    0|\n",
      "|2020-01-01T13:36:...|Masselmani, Mrs. ...|female|null|            2649|  7.225| null|       C|         20|       1|     3|    0|    0|\n",
      "+--------------------+--------------------+------+----+----------------+-------+-----+--------+-----------+--------+------+-----+-----+\n",
      "only showing top 20 rows\n",
      "\n"
     ]
    }
   ],
   "source": [
    "df2.show() "
   ]
  },
  {
   "cell_type": "code",
   "execution_count": 33,
   "id": "7ccfbb15-0fb5-4491-87c8-5660d2dd05d1",
   "metadata": {},
   "outputs": [
    {
     "data": {
      "text/plain": [
       "5346"
      ]
     },
     "execution_count": 33,
     "metadata": {},
     "output_type": "execute_result"
    }
   ],
   "source": [
    "df2.count()"
   ]
  },
  {
   "cell_type": "code",
   "execution_count": 34,
   "id": "4c5d105d-1cfe-4089-8fb9-0dde1b1bde82",
   "metadata": {},
   "outputs": [],
   "source": [
    "df2 = df2.na.drop(subset=[\"Cabin\", \"Embarked\",\"Age\"])"
   ]
  },
  {
   "cell_type": "code",
   "execution_count": 35,
   "id": "b636346a-c754-4e7b-93a5-9c57a3f00307",
   "metadata": {},
   "outputs": [
    {
     "data": {
      "text/plain": [
       "1098"
      ]
     },
     "execution_count": 35,
     "metadata": {},
     "output_type": "execute_result"
    }
   ],
   "source": [
    "df2.count()"
   ]
  },
  {
   "cell_type": "code",
   "execution_count": 38,
   "id": "821981ba-c095-4022-8610-dee2b9290877",
   "metadata": {},
   "outputs": [],
   "source": [
    "df2 = df2.drop(\"Pclass\",\"SibSp\",\"Parch\")"
   ]
  },
  {
   "cell_type": "code",
   "execution_count": 42,
   "id": "4c1b82fd-1f09-4ae7-8f16-8efa906e4486",
   "metadata": {},
   "outputs": [
    {
     "name": "stdout",
     "output_type": "stream",
     "text": [
      "root\n",
      " |-- Timestamp: string (nullable = true)\n",
      " |-- Name: string (nullable = true)\n",
      " |-- Sex: string (nullable = true)\n",
      " |-- Age: string (nullable = true)\n",
      " |-- Ticket: string (nullable = true)\n",
      " |-- Fare: string (nullable = true)\n",
      " |-- Cabin: string (nullable = true)\n",
      " |-- Embarked: string (nullable = true)\n",
      " |-- PassengerId: integer (nullable = true)\n",
      " |-- Survived: integer (nullable = true)\n",
      "\n"
     ]
    }
   ],
   "source": [
    "df2.printSchema()"
   ]
  },
  {
   "cell_type": "code",
   "execution_count": 39,
   "id": "92969bcd-9384-473b-9def-1029c5f93647",
   "metadata": {},
   "outputs": [
    {
     "data": {
      "text/plain": [
       "1098"
      ]
     },
     "execution_count": 39,
     "metadata": {},
     "output_type": "execute_result"
    }
   ],
   "source": [
    "df2.count()"
   ]
  },
  {
   "cell_type": "code",
   "execution_count": 41,
   "id": "b5e3d8b7-7331-4a83-84ec-fe87536fa52b",
   "metadata": {},
   "outputs": [],
   "source": [
    "df2 = df2.withColumn(\"Fare\", F.col(\"Fare\").cast(FloatType()))\n",
    "df2 = df2.withColumn(\"Age\", F.col(\"Age\").cast(IntegerType()))"
   ]
  },
  {
   "cell_type": "code",
   "execution_count": 16,
   "id": "0f44ee37-0db6-4f7b-875a-7b1ff4c469fc",
   "metadata": {},
   "outputs": [
    {
     "data": {
      "text/plain": [
       "DataFrame[Timestamp: timestamp, Name: string, Sex: string, Age: string, Ticket: string, Fare: double, Cabin: string, Embarked: string, PassengerId: int, Survived: int, Pclass: int, SibSp: int, Parch: int]"
      ]
     },
     "execution_count": 16,
     "metadata": {},
     "output_type": "execute_result"
    }
   ],
   "source": [
    "df_minimal.selectExpr(\n",
    "    \"Timestamp\",\n",
    "    \"string_columns.Name as Name\",\n",
    "    \"string_columns.Sex as Sex\",\n",
    "    \"string_columns.Age as Age\",\n",
    "    \"string_columns.Ticket as Ticket\",\n",
    "    \"string_columns.Fare as Fare\",\n",
    "    \"string_columns.Cabin as Cabin\",\n",
    "    \"string_columns.Embarked as Embarked\",\n",
    "    \"numeric_columns.PassengerId as PassengerId\",\n",
    "    \"numeric_columns.Survived as Survived\",\n",
    "    \"numeric_columns.Pclass as Pclass\",\n",
    "    \"numeric_columns.SibSp as SibSp\",\n",
    "    \"numeric_columns.Parch as Parch\"\n",
    ")"
   ]
  },
  {
   "cell_type": "code",
   "execution_count": null,
   "id": "45dd7774-1ba9-4785-9bec-539f5d1ec8a1",
   "metadata": {},
   "outputs": [],
   "source": []
  },
  {
   "cell_type": "code",
   "execution_count": 70,
   "id": "3897070f-94dd-4a51-b2ad-e3e6b0818afb",
   "metadata": {},
   "outputs": [
    {
     "name": "stdout",
     "output_type": "stream",
     "text": [
      "+-------------------+--------------+---------------+\n",
      "|          Timestamp|string_columns|numeric_columns|\n",
      "+-------------------+--------------+---------------+\n",
      "|2020-01-01 13:45:25|          null|           null|\n",
      "|2020-01-01 13:44:48|          null|           null|\n",
      "|2020-01-01 13:38:11|          null|           null|\n",
      "|2020-01-01 13:32:00|          null|           null|\n",
      "|2020-01-01 13:36:30|          null|           null|\n",
      "|2020-01-01 13:31:39|          null|           null|\n",
      "|2020-01-01 13:37:31|          null|           null|\n",
      "|2020-01-01 13:49:08|          null|           null|\n",
      "|2020-01-01 13:33:42|          null|           null|\n",
      "|2020-01-01 13:32:53|          null|           null|\n",
      "|2020-01-01 13:32:23|          null|           null|\n",
      "|2020-01-01 13:30:12|          null|           null|\n",
      "|2020-01-01 13:33:34|          null|           null|\n",
      "|2020-01-01 13:30:20|          null|           null|\n",
      "|2020-01-01 13:41:17|          null|           null|\n",
      "|2020-01-01 13:34:22|          null|           null|\n",
      "|2020-01-01 13:41:55|          null|           null|\n",
      "|2020-01-01 13:39:35|          null|           null|\n",
      "|2020-01-01 13:39:38|          null|           null|\n",
      "|2020-01-01 13:36:56|          null|           null|\n",
      "+-------------------+--------------+---------------+\n",
      "only showing top 20 rows\n",
      "\n"
     ]
    }
   ],
   "source": [
    "df_minimal.show()"
   ]
  },
  {
   "cell_type": "code",
   "execution_count": 64,
   "id": "1ced867e-7632-4dd2-a5f7-ed701dc4d23d",
   "metadata": {},
   "outputs": [],
   "source": [
    "df_minimal = df.select(\"message_content.*\")"
   ]
  },
  {
   "cell_type": "code",
   "execution_count": 65,
   "id": "fe393d5e-1f63-471b-90b7-f9577cc9502f",
   "metadata": {},
   "outputs": [
    {
     "name": "stdout",
     "output_type": "stream",
     "text": [
      "+-------------------+--------------+---------------+\n",
      "|          Timestamp|string_columns|numeric_columns|\n",
      "+-------------------+--------------+---------------+\n",
      "|2020-01-01 13:45:25|          null|           null|\n",
      "|2020-01-01 13:44:48|          null|           null|\n",
      "|2020-01-01 13:38:11|          null|           null|\n",
      "|2020-01-01 13:32:00|          null|           null|\n",
      "|2020-01-01 13:36:30|          null|           null|\n",
      "|2020-01-01 13:31:39|          null|           null|\n",
      "|2020-01-01 13:37:31|          null|           null|\n",
      "|2020-01-01 13:49:08|          null|           null|\n",
      "|2020-01-01 13:33:42|          null|           null|\n",
      "|2020-01-01 13:32:53|          null|           null|\n",
      "|2020-01-01 13:32:23|          null|           null|\n",
      "|2020-01-01 13:30:12|          null|           null|\n",
      "|2020-01-01 13:33:34|          null|           null|\n",
      "|2020-01-01 13:30:20|          null|           null|\n",
      "|2020-01-01 13:41:17|          null|           null|\n",
      "|2020-01-01 13:34:22|          null|           null|\n",
      "|2020-01-01 13:41:55|          null|           null|\n",
      "|2020-01-01 13:39:35|          null|           null|\n",
      "|2020-01-01 13:39:38|          null|           null|\n",
      "|2020-01-01 13:36:56|          null|           null|\n",
      "+-------------------+--------------+---------------+\n",
      "only showing top 20 rows\n",
      "\n"
     ]
    }
   ],
   "source": [
    "df_minimal.show()"
   ]
  },
  {
   "cell_type": "code",
   "execution_count": 43,
   "id": "102e21cc-672f-4506-ad36-06ed240a2348",
   "metadata": {},
   "outputs": [
    {
     "ename": "TypeError",
     "evalue": "data is already a DataFrame",
     "output_type": "error",
     "traceback": [
      "\u001b[0;31m---------------------------------------------------------------------------\u001b[0m",
      "\u001b[0;31mTypeError\u001b[0m                                 Traceback (most recent call last)",
      "Cell \u001b[0;32mIn[43], line 1\u001b[0m\n\u001b[0;32m----> 1\u001b[0m carbon_df \u001b[38;5;241m=\u001b[39m \u001b[43mspark\u001b[49m\u001b[38;5;241;43m.\u001b[39;49m\u001b[43mcreateDataFrame\u001b[49m\u001b[43m(\u001b[49m\u001b[43mdf_nested\u001b[49m\u001b[43m,\u001b[49m\u001b[43m \u001b[49m\u001b[43mschema\u001b[49m\u001b[43m)\u001b[49m\n",
      "File \u001b[0;32m/usr/local/spark/python/pyspark/sql/session.py:875\u001b[0m, in \u001b[0;36mSparkSession.createDataFrame\u001b[0;34m(self, data, schema, samplingRatio, verifySchema)\u001b[0m\n\u001b[1;32m    873\u001b[0m \u001b[38;5;28mself\u001b[39m\u001b[38;5;241m.\u001b[39m_jvm\u001b[38;5;241m.\u001b[39mSparkSession\u001b[38;5;241m.\u001b[39msetActiveSession(\u001b[38;5;28mself\u001b[39m\u001b[38;5;241m.\u001b[39m_jsparkSession)\n\u001b[1;32m    874\u001b[0m \u001b[38;5;28;01mif\u001b[39;00m \u001b[38;5;28misinstance\u001b[39m(data, DataFrame):\n\u001b[0;32m--> 875\u001b[0m     \u001b[38;5;28;01mraise\u001b[39;00m \u001b[38;5;167;01mTypeError\u001b[39;00m(\u001b[38;5;124m\"\u001b[39m\u001b[38;5;124mdata is already a DataFrame\u001b[39m\u001b[38;5;124m\"\u001b[39m)\n\u001b[1;32m    877\u001b[0m \u001b[38;5;28;01mif\u001b[39;00m \u001b[38;5;28misinstance\u001b[39m(schema, \u001b[38;5;28mstr\u001b[39m):\n\u001b[1;32m    878\u001b[0m     schema \u001b[38;5;241m=\u001b[39m cast(Union[AtomicType, StructType, \u001b[38;5;28mstr\u001b[39m], _parse_datatype_string(schema))\n",
      "\u001b[0;31mTypeError\u001b[0m: data is already a DataFrame"
     ]
    }
   ],
   "source": [
    "# carbon_df = spark.createDataFrame(df_nested, schema)\n"
   ]
  },
  {
   "cell_type": "code",
   "execution_count": null,
   "id": "79538a22-6b59-416d-b156-441110761ad3",
   "metadata": {},
   "outputs": [],
   "source": []
  },
  {
   "cell_type": "code",
   "execution_count": null,
   "id": "55173a76-e1d6-4342-91dd-192837f85101",
   "metadata": {},
   "outputs": [],
   "source": []
  },
  {
   "cell_type": "code",
   "execution_count": null,
   "id": "afde0f77-117b-4be1-9092-95dad6fdeb3a",
   "metadata": {},
   "outputs": [],
   "source": []
  },
  {
   "cell_type": "code",
   "execution_count": 33,
   "id": "8eff3c86-90ac-4a0a-ae18-0db9017816d7",
   "metadata": {},
   "outputs": [
    {
     "ename": "SyntaxError",
     "evalue": "invalid syntax (3221678910.py, line 5)",
     "output_type": "error",
     "traceback": [
      "\u001b[0;36m  Cell \u001b[0;32mIn[33], line 5\u001b[0;36m\u001b[0m\n\u001b[0;31m    df.\u001b[0m\n\u001b[0m       ^\u001b[0m\n\u001b[0;31mSyntaxError\u001b[0m\u001b[0;31m:\u001b[0m invalid syntax\n"
     ]
    }
   ],
   "source": [
    "# from pyspark.sql import SparkSession\n",
    "# from pyspark.sql.types import StructType, StructField, StringType, DoubleType\n",
    "# import json\n",
    "\n",
    "# spark = SparkSession.builder.appName(\"data_to_dataframe\").getOrCreate()\n",
    "\n",
    "# # Define the schema for the data frame\n",
    "# schema = StructType([\n",
    "#     StructField(\"timestamp\", StringType(), True),\n",
    "#     StructField(\"room_id\", StringType(), True),\n",
    "#     StructField(\"co2\", DoubleType(), True),\n",
    "#     ])\n",
    "\n",
    "# # Convert the data into a list of dictionaries\n",
    "# dict_data = [json.loads(row.value.decode('utf-8')) for row in value_list ]\n",
    "\n",
    "# # Create the data frame from the list of dictionaries\n",
    "# carbon_df = spark.createDataFrame(dict_data, schema)\n",
    "\n",
    "# # Show the data frame\n",
    "# carbon_df.show()\n",
    " "
   ]
  },
  {
   "cell_type": "code",
   "execution_count": null,
   "id": "9f0268a6-b7fd-4d63-90e6-dc4f9a1e0a3f",
   "metadata": {},
   "outputs": [],
   "source": [
    "# denested_df = stream_df.selectExpr(\n",
    "#     \"Timestamp\",\n",
    "#     \"string_columns.Name as Name\",\n",
    "#     \"string_columns.Sex as Sex\",\n",
    "#     \"string_columns.Age as Age\",\n",
    "#     \"string_columns.Ticket as Ticket\",\n",
    "#     \"string_columns.Fare as Fare\",\n",
    "#     \"string_columns.Cabin as Cabin\",\n",
    "#     \"string_columns.Embarked as Embarked\",\n",
    "#     \"numeric_columns.PassengerId as PassengerId\",\n",
    "#     \"numeric_columns.Survived as Survived\",\n",
    "#     \"numeric_columns.Pclass as Pclass\",\n",
    "#     \"numeric_columns.SibSp as SibSp\",\n",
    "#     \"numeric_columns.Parch as Parch\"\n",
    "# )"
   ]
  },
  {
   "cell_type": "code",
   "execution_count": null,
   "id": "4aa4ab92-cd65-4d50-b843-2d400e2f9a16",
   "metadata": {},
   "outputs": [],
   "source": []
  },
  {
   "cell_type": "code",
   "execution_count": null,
   "id": "acf20b1e-1e6b-4e32-95f3-f5244eb36778",
   "metadata": {},
   "outputs": [],
   "source": []
  },
  {
   "cell_type": "code",
   "execution_count": null,
   "id": "f80f6de8-ec1d-484b-9703-fa356c68c2ea",
   "metadata": {},
   "outputs": [],
   "source": []
  },
  {
   "cell_type": "code",
   "execution_count": null,
   "id": "7def3576-9984-4ee0-aee7-af60aeb0b367",
   "metadata": {},
   "outputs": [],
   "source": []
  },
  {
   "cell_type": "code",
   "execution_count": null,
   "id": "ff809610-a3f1-41d0-8168-72b136b25231",
   "metadata": {},
   "outputs": [],
   "source": []
  },
  {
   "cell_type": "code",
   "execution_count": null,
   "id": "c13ca3ea-de9c-4e86-8edf-b88ccee9d380",
   "metadata": {},
   "outputs": [],
   "source": []
  },
  {
   "cell_type": "code",
   "execution_count": null,
   "id": "e8a980ed-e411-4c7b-ba61-a725685d3f86",
   "metadata": {},
   "outputs": [],
   "source": []
  },
  {
   "cell_type": "code",
   "execution_count": null,
   "id": "8cb35335-476b-46a0-a73a-9a72037ed992",
   "metadata": {},
   "outputs": [],
   "source": []
  }
 ],
 "metadata": {
  "kernelspec": {
   "display_name": "Python 3 (ipykernel)",
   "language": "python",
   "name": "python3"
  },
  "language_info": {
   "codemirror_mode": {
    "name": "ipython",
    "version": 3
   },
   "file_extension": ".py",
   "mimetype": "text/x-python",
   "name": "python",
   "nbconvert_exporter": "python",
   "pygments_lexer": "ipython3",
   "version": "3.10.8"
  }
 },
 "nbformat": 4,
 "nbformat_minor": 5
}
