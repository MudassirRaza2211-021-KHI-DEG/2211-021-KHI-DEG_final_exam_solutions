{
 "cells": [
  {
   "cell_type": "markdown",
   "id": "eefc9735-6789-46fd-9e0c-108f2b271cfa",
   "metadata": {},
   "source": [
    "# Data preparation"
   ]
  },
  {
   "cell_type": "code",
   "execution_count": null,
   "id": "0c026a3a-cfd6-4980-903a-54ddb16de95d",
   "metadata": {},
   "outputs": [],
   "source": [
    "import pyspark\n"
   ]
  },
  {
   "cell_type": "code",
   "execution_count": null,
   "id": "64ea7c6c-c81d-4cad-a898-ff0a7ffb3379",
   "metadata": {},
   "outputs": [],
   "source": [
    "from pyspark.sql import SparkSession\n",
    "import pyspark.sql.functions as F\n",
    "import pyspark.sql.types as T"
   ]
  },
  {
   "cell_type": "code",
   "execution_count": null,
   "id": "83a472d2-e145-4cd0-b84e-5c15ed9764db",
   "metadata": {},
   "outputs": [],
   "source": [
    " spark = (\n",
    "    SparkSession.builder.master(\"local[1]\")\n",
    "    .appName(\"Exam data preparation\")\n",
    "    .config(\"spark.jars.packages\", \"org.apache.spark:spark-sql-kafka-0-10_2.12:3.3.1\")\n",
    "    .getOrCreate()\n",
    ")"
   ]
  },
  {
   "cell_type": "code",
   "execution_count": null,
   "id": "2007450b-4f65-46d9-b300-fc9937e2f19a",
   "metadata": {},
   "outputs": [],
   "source": [
    "spark"
   ]
  },
  {
   "cell_type": "code",
   "execution_count": null,
   "id": "51456822-6382-46ab-a0c3-9b047ac26010",
   "metadata": {},
   "outputs": [],
   "source": [
    "titanic_schema = (\n",
    "    T.StructType()\n",
    "    .add(\"PassengerId\", T.IntegerType())\n",
    "    .add(\"Survived\", T.IntegerType())\n",
    "    .add(\"Pclass\", T.IntegerType())\n",
    "    .add(\"Name\", T.StringType())\n",
    "    .add(\"Sex\", T.StringType())\n",
    "    .add(\"Age\", T.IntegerType())\n",
    "    .add(\"SibSp\", T.IntegerType())\n",
    "    .add(\"Parch\", T.IntegerType())\n",
    "    .add(\"Ticket\", T.StringType())\n",
    "    .add(\"Fare\", T.FloatType())\n",
    "    .add(\"Cabin\", T.StringType())\n",
    "    .add(\"Embarked\", T.StringType())\n",
    "    .add(\"Timestamp\", T.TimestampType())\n",
    ")\n"
   ]
  },
  {
   "cell_type": "code",
   "execution_count": null,
   "id": "cda58200-409b-43c4-afbf-b71c332dab5f",
   "metadata": {},
   "outputs": [],
   "source": [
    "\n",
    "df_source_batch = spark.read.csv(\"./data/titanic.csv\", schema=titanic_schema)\n",
    "df_source_batch = df_source_batch.withColumn(\"value\", F.to_json(F.struct(*df_source_batch.columns)).cast(T.StringType()))\n",
    "dataframe_source_batch_writer = df_source_batch.select(\"value\").write \\\n",
    "                                .format(\"kafka\") \\\n",
    "                                .option(\"kafka.bootstrap.servers\", \"localhost:9092\") \\\n",
    "                                .option(\"topic\", \"titanic_topic\")\n"
   ]
  },
  {
   "cell_type": "code",
   "execution_count": null,
   "id": "44fb30d0-9fea-451a-a642-f70187b01205",
   "metadata": {
    "tags": []
   },
   "outputs": [],
   "source": [
    "df_source_batch.select(\"value\").count()"
   ]
  },
  {
   "cell_type": "code",
   "execution_count": null,
   "id": "01cf5481-8fd6-48c7-af50-f362298a38e4",
   "metadata": {},
   "outputs": [],
   "source": [
    "# Run twice to have duplicates to drop\n",
    "dataframe_source_batch_writer.save()\n",
    "dataframe_source_batch_writer.save()"
   ]
  },
  {
   "cell_type": "code",
   "execution_count": null,
   "id": "af67114a-2246-40b3-952f-7b8c1812d34d",
   "metadata": {},
   "outputs": [],
   "source": []
  },
  {
   "cell_type": "code",
   "execution_count": null,
   "id": "44a29ab9-7455-42c7-a157-8ee9ca5286f8",
   "metadata": {},
   "outputs": [],
   "source": [
    "df = spark \\\n",
    "  .read \\\n",
    "  .format(\"kafka\") \\\n",
    "  .option(\"kafka.bootstrap.servers\", \"localhost:9092\") \\\n",
    "  .option(\"subscribe\", \"titanic_topic\") \\\n",
    "  .option(\"failOnDataLoss\", \"true\") \\\n",
    "  .load()\n",
    "df.printSchema()"
   ]
  },
  {
   "cell_type": "code",
   "execution_count": null,
   "id": "aff669dd-5e38-4e92-9d20-6c5d77c1b4a2",
   "metadata": {},
   "outputs": [],
   "source": [
    "df.count()"
   ]
  },
  {
   "cell_type": "code",
   "execution_count": null,
   "id": "ee6bbce3-95e6-4c1a-9da7-843b3698972f",
   "metadata": {},
   "outputs": [],
   "source": [
    "df.tail(1)"
   ]
  },
  {
   "cell_type": "code",
   "execution_count": null,
   "id": "b7734568-8e0a-4579-8123-98c3cae37f0f",
   "metadata": {},
   "outputs": [],
   "source": [
    "df= df.withColumn(\"message_content\", F.from_json(F.col(\"value\").cast(\"string\"), titanic_schema))\n",
    "\n",
    "df_minimal = df.select(\"message_content.*\")"
   ]
  },
  {
   "cell_type": "code",
   "execution_count": null,
   "id": "571595e0-d61d-43f5-a012-3f40c401be79",
   "metadata": {},
   "outputs": [],
   "source": [
    "df_minimal.printSchema()"
   ]
  },
  {
   "cell_type": "code",
   "execution_count": null,
   "id": "09c0d87a-96df-4013-a0cd-a0f8ab625b25",
   "metadata": {},
   "outputs": [],
   "source": [
    "df_minimal = df_minimal.withColumn(\"Fare\", F.col(\"Fare\").cast(T.StringType()))\n",
    "df_minimal = df_minimal.withColumn(\"Age\", F.col(\"Age\").cast(T.StringType()))"
   ]
  },
  {
   "cell_type": "code",
   "execution_count": null,
   "id": "2877b3e7-d61f-4182-8acf-b28ae32f3afb",
   "metadata": {},
   "outputs": [],
   "source": [
    "df_to_kafka = df_minimal\n",
    "\n",
    "df_to_kafka = df_to_kafka.withColumn(\"string_columns\", F.struct([col for col, type_name in df_to_kafka.dtypes if type_name==\"string\"]))\n",
    "df_to_kafka = df_to_kafka.withColumn(\"numeric_columns\", F.struct([col for col, type_name in df_to_kafka.dtypes if type_name in [\"int\",\"float\"]]))"
   ]
  },
  {
   "cell_type": "code",
   "execution_count": null,
   "id": "7f9fbae8-9c45-4751-90a4-4bd9f75f9150",
   "metadata": {},
   "outputs": [],
   "source": [
    "df_to_kafka.printSchema()"
   ]
  },
  {
   "cell_type": "code",
   "execution_count": null,
   "id": "ca54e28f-7182-413b-8481-1380d63a27a8",
   "metadata": {},
   "outputs": [],
   "source": [
    "df_to_kafka = df_to_kafka.select(\"Timestamp\",\"string_columns\", \"numeric_columns\")"
   ]
  },
  {
   "cell_type": "code",
   "execution_count": null,
   "id": "b5879d7e-300e-4c73-8228-e1e98ea73a96",
   "metadata": {},
   "outputs": [],
   "source": [
    "df_to_kafka.printSchema()"
   ]
  },
  {
   "cell_type": "code",
   "execution_count": null,
   "id": "d41db21a-4d1d-43e7-a49c-ea0134289770",
   "metadata": {},
   "outputs": [],
   "source": [
    "df_to_kafka = df_to_kafka.withColumn(\"data_packed_for_kafka\", F.to_json(F.struct(*df_to_kafka.columns)))\n"
   ]
  },
  {
   "cell_type": "code",
   "execution_count": null,
   "id": "0943593b-94de-43a4-b947-f629c2ab1e69",
   "metadata": {},
   "outputs": [],
   "source": [
    "df_to_kafka.printSchema()"
   ]
  },
  {
   "cell_type": "code",
   "execution_count": null,
   "id": "0025daa5-b96f-41eb-be29-48e0463059bf",
   "metadata": {},
   "outputs": [],
   "source": [
    "query = df_to_kafka.select(F.col(\"data_packed_for_kafka\").alias(\"value\")) \\\n",
    "  .write \\\n",
    "  .format(\"kafka\") \\\n",
    "  .option(\"kafka.bootstrap.servers\", \"localhost:9092\") \\\n",
    "  .option(\"topic\", \"topic_nested\") \\\n",
    "  .save()\n"
   ]
  },
  {
   "cell_type": "code",
   "execution_count": null,
   "id": "5f24f15f-3dc6-4044-8ffe-5fe6cc8dc13f",
   "metadata": {},
   "outputs": [],
   "source": [
    "meant_to_be_json = df_to_kafka.select(F.col(\"data_packed_for_kafka\")).tail(1)[0][\"data_packed_for_kafka\"]"
   ]
  },
  {
   "cell_type": "code",
   "execution_count": null,
   "id": "968c79d2-7728-4b4d-8e4f-1da8a31789f9",
   "metadata": {},
   "outputs": [],
   "source": [
    "import json \n",
    "\n",
    "# prove data is correctly formatted JSON\n",
    "json.loads(meant_to_be_json)"
   ]
  },
  {
   "cell_type": "code",
   "execution_count": null,
   "id": "dddeb5b4-a490-48d3-b5d5-e54ed13eb5bc",
   "metadata": {},
   "outputs": [],
   "source": [
    "spark.stop()"
   ]
  }
 ],
 "metadata": {
  "kernelspec": {
   "display_name": "Python 3 (ipykernel)",
   "language": "python",
   "name": "python3"
  },
  "language_info": {
   "codemirror_mode": {
    "name": "ipython",
    "version": 3
   },
   "file_extension": ".py",
   "mimetype": "text/x-python",
   "name": "python",
   "nbconvert_exporter": "python",
   "pygments_lexer": "ipython3",
   "version": "3.10.8"
  }
 },
 "nbformat": 4,
 "nbformat_minor": 5
}
