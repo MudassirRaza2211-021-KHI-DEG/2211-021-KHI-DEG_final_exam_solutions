{
 "cells": [
  {
   "cell_type": "code",
   "execution_count": 38,
   "id": "8fe8c555-2c6f-4df2-8982-19511fa61247",
   "metadata": {},
   "outputs": [],
   "source": [
    "import pyspark"
   ]
  },
  {
   "cell_type": "code",
   "execution_count": 39,
   "id": "63ca3d4b-22ca-4419-93e9-d186b35c26f1",
   "metadata": {},
   "outputs": [],
   "source": [
    "from pyspark.sql import SparkSession\n",
    "import pyspark.sql.functions as F\n",
    "import pyspark.sql.types as T\n",
    "from pyspark.sql.types import StructType, StructField, StringType, DoubleType, IntegerType, FloatType, TimestampType, MapType"
   ]
  },
  {
   "cell_type": "code",
   "execution_count": 40,
   "id": "7ab3296f-814e-47b1-a196-ae7a5ba8dee1",
   "metadata": {},
   "outputs": [],
   "source": [
    " spark = (\n",
    "    SparkSession.builder.master(\"local[1]\")\n",
    "    .appName(\"pyspark solution\")\n",
    "    .config(\"spark.jars.packages\", \"org.apache.spark:spark-sql-kafka-0-10_2.12:3.3.1\")\n",
    "    .getOrCreate()\n",
    ")"
   ]
  },
  {
   "cell_type": "code",
   "execution_count": 41,
   "id": "a5345a12-f964-4414-b72b-cbacc1552ebc",
   "metadata": {},
   "outputs": [
    {
     "data": {
      "text/html": [
       "\n",
       "            <div>\n",
       "                <p><b>SparkSession - in-memory</b></p>\n",
       "                \n",
       "        <div>\n",
       "            <p><b>SparkContext</b></p>\n",
       "\n",
       "            <p><a href=\"http://192.168.0.192:4040\">Spark UI</a></p>\n",
       "\n",
       "            <dl>\n",
       "              <dt>Version</dt>\n",
       "                <dd><code>v3.3.1</code></dd>\n",
       "              <dt>Master</dt>\n",
       "                <dd><code>local[1]</code></dd>\n",
       "              <dt>AppName</dt>\n",
       "                <dd><code>pyspark solution</code></dd>\n",
       "            </dl>\n",
       "        </div>\n",
       "        \n",
       "            </div>\n",
       "        "
      ],
      "text/plain": [
       "<pyspark.sql.session.SparkSession at 0x7fed6823c850>"
      ]
     },
     "execution_count": 41,
     "metadata": {},
     "output_type": "execute_result"
    }
   ],
   "source": [
    "spark"
   ]
  },
  {
   "cell_type": "code",
   "execution_count": 42,
   "id": "7c0b754d-9d65-4bc8-bc8d-8e20329ab034",
   "metadata": {},
   "outputs": [],
   "source": [
    "df = spark.read.format(\"kafka\") \\\n",
    "    .option(\"kafka.bootstrap.servers\", \"localhost:9092\") \\\n",
    "    .option(\"subscribe\", \"topic_nested\") \\\n",
    "    .load() \\\n",
    "    .selectExpr(\"CAST(value AS STRING)\") \\\n",
    "    .select(F.from_json(\"value\", schema).alias(\"data\")) \\\n",
    "    .select(\"data.*\")\n",
    "\n",
    "df = df.select(\"Timestamp\", \"string_columns.*\", \"numeric_columns.*\")"
   ]
  },
  {
   "cell_type": "code",
   "execution_count": 43,
   "id": "f7df848a-aef5-41ce-ad95-080417256dbe",
   "metadata": {},
   "outputs": [],
   "source": [
    "schema = StructType([\n",
    "    StructField(\"Timestamp\", TimestampType(), True),\n",
    "    StructField(\"string_columns\", StructType([\n",
    "        StructField(\"Name\", StringType(), True),\n",
    "        StructField(\"Sex\", StringType(), True),\n",
    "        StructField(\"Age\", StringType(), True),\n",
    "        StructField(\"Ticket\", StringType(), True),\n",
    "        StructField(\"Fare\", StringType(), True),\n",
    "        StructField(\"Cabin\", StringType(), True),\n",
    "        StructField(\"Embarked\", StringType(), True)\n",
    "    ]), True),\n",
    "    StructField(\"numeric_columns\", StructType([\n",
    "        StructField(\"PassengerId\", IntegerType(), True),\n",
    "        StructField(\"Survived\", IntegerType(), True),\n",
    "        StructField(\"Pclass\", IntegerType(), True),\n",
    "        StructField(\"SibSp\", IntegerType(), True),\n",
    "        StructField(\"Parch\", IntegerType(), True)\n",
    "    ]), True)\n",
    "])"
   ]
  },
  {
   "cell_type": "code",
   "execution_count": 44,
   "id": "4e8a1d5c-1c50-4af6-90f1-3f99736395be",
   "metadata": {},
   "outputs": [
    {
     "name": "stdout",
     "output_type": "stream",
     "text": [
      "root\n",
      " |-- Timestamp: timestamp (nullable = true)\n",
      " |-- Name: string (nullable = true)\n",
      " |-- Sex: string (nullable = true)\n",
      " |-- Age: string (nullable = true)\n",
      " |-- Ticket: string (nullable = true)\n",
      " |-- Fare: string (nullable = true)\n",
      " |-- Cabin: string (nullable = true)\n",
      " |-- Embarked: string (nullable = true)\n",
      " |-- PassengerId: integer (nullable = true)\n",
      " |-- Survived: integer (nullable = true)\n",
      " |-- Pclass: integer (nullable = true)\n",
      " |-- SibSp: integer (nullable = true)\n",
      " |-- Parch: integer (nullable = true)\n",
      "\n"
     ]
    }
   ],
   "source": [
    "df.printSchema()"
   ]
  },
  {
   "cell_type": "code",
   "execution_count": 45,
   "id": "8135f3e8-2aeb-4e55-8687-c8c58d51a7eb",
   "metadata": {},
   "outputs": [],
   "source": [
    "df = df.dropDuplicates()"
   ]
  },
  {
   "cell_type": "code",
   "execution_count": 46,
   "id": "42f42cdd-a5b7-4b55-b245-77f59159ff83",
   "metadata": {},
   "outputs": [
    {
     "data": {
      "text/plain": [
       "891"
      ]
     },
     "execution_count": 46,
     "metadata": {},
     "output_type": "execute_result"
    }
   ],
   "source": [
    "df.count()"
   ]
  },
  {
   "cell_type": "code",
   "execution_count": 47,
   "id": "db7a4c21-adde-460c-8ea9-5a0a9ba5e14c",
   "metadata": {},
   "outputs": [
    {
     "name": "stdout",
     "output_type": "stream",
     "text": [
      "+-------------------+--------------------+------+----+-----------------+-------+-----+--------+-----------+--------+------+-----+-----+\n",
      "|          Timestamp|                Name|   Sex| Age|           Ticket|   Fare|Cabin|Embarked|PassengerId|Survived|Pclass|SibSp|Parch|\n",
      "+-------------------+--------------------+------+----+-----------------+-------+-----+--------+-----------+--------+------+-----+-----+\n",
      "|2020-01-01 13:46:21|\"Lovell, Mr. John...|  male|  20|        A/5 21173|   7.25| null|       S|        228|       0|     3|    0|    0|\n",
      "|2020-01-01 13:39:12|Kimball, Mr. Edwi...|  male|  42|            11753|52.5542|  D19|       S|        622|       1|     1|    1|    0|\n",
      "|2020-01-01 13:36:29|Alexander, Mr. Wi...|  male|  26|             3474| 7.8875| null|       S|        811|       0|     3|    0|    0|\n",
      "|2020-01-01 13:44:34|Marechal, Mr. Pierre|  male|null|            11774|   29.7|  C47|       C|        840|       1|     1|    0|    0|\n",
      "|2020-01-01 13:43:40|Stead, Mr. Willia...|  male|  62|           113514|  26.55|  C87|       S|        253|       0|     1|    0|    0|\n",
      "|2020-01-01 13:39:42|    Calic, Mr. Petar|  male|  17|           315086| 8.6625| null|       S|        501|       0|     3|    0|    0|\n",
      "|2020-01-01 13:33:14|Soholt, Mr. Peter...|  male|  19|           348124|   7.65|F G73|       S|        716|       0|     3|    0|    0|\n",
      "|2020-01-01 13:40:15|\"Parkes, Mr. Fran...|  male|null|           239853|    0.0| null|       S|        278|       0|     2|    0|    0|\n",
      "|2020-01-01 13:34:35|Jansson, Mr. Carl...|  male|  21|           350034| 7.7958| null|       S|        392|       1|     3|    0|    0|\n",
      "|2020-01-01 13:41:31|    Flynn, Mr. James|  male|null|           364851|   7.75| null|       Q|        429|       0|     3|    0|    0|\n",
      "|2020-01-01 13:33:36|Beesley, Mr. Lawr...|  male|  34|           248698|   13.0|  D56|       S|         22|       1|     2|    0|    0|\n",
      "|2020-01-01 13:30:12|  Richard, Mr. Emile|  male|  23|    SC/PARIS 2133|15.0458| null|       C|        136|       0|     2|    0|    0|\n",
      "|2020-01-01 13:32:38|Goodwin, Master. ...|  male|   1|          CA 2144|   46.9| null|       S|        387|       0|     3|    5|    2|\n",
      "|2020-01-01 13:46:16|  Gale, Mr. Shadrach|  male|  34|            28664|   21.0| null|       S|        406|       0|     2|    1|    0|\n",
      "|2020-01-01 13:36:12|Kallio, Mr. Nikol...|  male|  17|STON/O 2. 3101274|  7.125| null|       S|        434|       0|     3|    0|    0|\n",
      "|2020-01-01 13:32:29|Daly, Mr. Eugene ...|  male|  29|           382651|   7.75| null|       Q|        511|       1|     3|    0|    0|\n",
      "|2020-01-01 13:40:34|Carter, Rev. Erne...|  male|  54|           244252|   26.0| null|       S|        250|       0|     2|    1|    0|\n",
      "|2020-01-01 13:42:07|        Lam, Mr. Ali|  male|null|             1601|56.4958| null|       S|        693|       1|     3|    0|    0|\n",
      "|2020-01-01 13:39:32|Barbara, Miss. Sa...|female|  18|             2691|14.4542| null|       C|        703|       0|     3|    0|    1|\n",
      "|2020-01-01 13:41:46|   Wells, Miss. Joan|female|   4|            29103|   23.0| null|       S|        751|       1|     2|    1|    1|\n",
      "+-------------------+--------------------+------+----+-----------------+-------+-----+--------+-----------+--------+------+-----+-----+\n",
      "only showing top 20 rows\n",
      "\n"
     ]
    }
   ],
   "source": [
    "df.show()"
   ]
  },
  {
   "cell_type": "code",
   "execution_count": 48,
   "id": "c369f5f6-538d-4d6c-bd55-d4bb7ce0df16",
   "metadata": {},
   "outputs": [],
   "source": [
    "df_na = df.dropna(subset=[\"Age\",\"Cabin\", \"Embarked\"])"
   ]
  },
  {
   "cell_type": "code",
   "execution_count": 49,
   "id": "d5dc0e48-0a27-458d-9491-d0df488c79c2",
   "metadata": {},
   "outputs": [
    {
     "name": "stdout",
     "output_type": "stream",
     "text": [
      "+-------------------+--------------------+------+---+----------+-------+-----------+--------+-----------+--------+------+-----+-----+\n",
      "|          Timestamp|                Name|   Sex|Age|    Ticket|   Fare|      Cabin|Embarked|PassengerId|Survived|Pclass|SibSp|Parch|\n",
      "+-------------------+--------------------+------+---+----------+-------+-----------+--------+-----------+--------+------+-----+-----+\n",
      "|2020-01-01 13:39:12|Kimball, Mr. Edwi...|  male| 42|     11753|52.5542|        D19|       S|        622|       1|     1|    1|    0|\n",
      "|2020-01-01 13:43:40|Stead, Mr. Willia...|  male| 62|    113514|  26.55|        C87|       S|        253|       0|     1|    0|    0|\n",
      "|2020-01-01 13:33:14|Soholt, Mr. Peter...|  male| 19|    348124|   7.65|      F G73|       S|        716|       0|     3|    0|    0|\n",
      "|2020-01-01 13:33:36|Beesley, Mr. Lawr...|  male| 34|    248698|   13.0|        D56|       S|         22|       1|     2|    0|    0|\n",
      "|2020-01-01 13:40:51|Carlsson, Mr. Fra...|  male| 33|       695|    5.0|B51 B53 B55|       S|        873|       0|     1|    0|    0|\n",
      "|2020-01-01 13:33:15|Harrison, Mr. Wil...|  male| 40|    112059|    0.0|        B94|       S|        264|       0|     1|    0|    0|\n",
      "|2020-01-01 13:46:38|Navratil, Master....|  male|  3|    230080|   26.0|         F2|       S|        194|       1|     2|    1|    1|\n",
      "|2020-01-01 13:45:55|Francatelli, Miss...|female| 30|  PC 17485|56.9292|        E36|       C|        310|       1|     1|    0|    0|\n",
      "|2020-01-01 13:32:39|Davidson, Mr. Tho...|  male| 31|F.C. 12750|   52.0|        B71|       S|        672|       0|     1|    1|    0|\n",
      "|2020-01-01 13:49:29|Allison, Miss. He...|female|  2|    113781| 151.55|    C22 C26|       S|        298|       0|     1|    1|    2|\n",
      "|2020-01-01 13:44:46|Stephenson, Mrs. ...|female| 52|     36947|78.2667|        D20|       C|        592|       1|     1|    1|    0|\n",
      "|2020-01-01 13:38:28|Ball, Mrs. (Ada E...|female| 36|     28551|   13.0|          D|       S|        328|       1|     2|    0|    0|\n",
      "|2020-01-01 13:45:25|Sandstrom, Mrs. H...|female| 24|   PP 9549|   16.7|         G6|       S|        395|       1|     3|    0|    2|\n",
      "|2020-01-01 13:43:58| Ross, Mr. John Hugo|  male| 36|     13049| 40.125|        A10|       C|        584|       0|     1|    0|    0|\n",
      "|2020-01-01 13:39:59|Goldenberg, Mr. S...|  male| 49|     17453|89.1042|        C92|       C|        454|       1|     1|    1|    0|\n",
      "|2020-01-01 13:32:55|  Giglio, Mr. Victor|  male| 24|  PC 17593|   79.2|        B86|       C|        140|       0|     1|    0|    0|\n",
      "|2020-01-01 13:46:33|Brown, Mrs. James...|female| 44|  PC 17610|27.7208|         B4|       C|        195|       1|     1|    0|    0|\n",
      "|2020-01-01 13:43:45|Harper, Mr. Henry...|  male| 48|  PC 17572|76.7292|        D33|       C|        646|       1|     1|    1|    0|\n",
      "|2020-01-01 13:36:18|Andrews, Mr. Thom...|  male| 39|    112050|    0.0|        A36|       S|        807|       0|     1|    0|    0|\n",
      "|2020-01-01 13:40:25|Potter, Mrs. Thom...|female| 56|     11767|83.1583|        C50|       C|        880|       1|     1|    0|    1|\n",
      "+-------------------+--------------------+------+---+----------+-------+-----------+--------+-----------+--------+------+-----+-----+\n",
      "only showing top 20 rows\n",
      "\n"
     ]
    }
   ],
   "source": [
    "df_na.show()"
   ]
  },
  {
   "cell_type": "code",
   "execution_count": 50,
   "id": "860ae5e1-8905-4791-a402-e98d3ef5d1e8",
   "metadata": {},
   "outputs": [
    {
     "data": {
      "text/plain": [
       "183"
      ]
     },
     "execution_count": 50,
     "metadata": {},
     "output_type": "execute_result"
    }
   ],
   "source": [
    "df_na.count()"
   ]
  },
  {
   "cell_type": "code",
   "execution_count": 51,
   "id": "bdebe530-c592-43a3-9834-7969e4ecaac9",
   "metadata": {},
   "outputs": [],
   "source": [
    "df_columns = df_na.drop(\"Pclass\",\"SibSp\",\"Parch\")"
   ]
  },
  {
   "cell_type": "code",
   "execution_count": 52,
   "id": "0014e66c-6727-41aa-bdd3-0e8c7ec0157b",
   "metadata": {},
   "outputs": [
    {
     "name": "stdout",
     "output_type": "stream",
     "text": [
      "+-------------------+--------------------+----+---+------+-------+-----------+--------+-----------+--------+\n",
      "|          Timestamp|                Name| Sex|Age|Ticket|   Fare|      Cabin|Embarked|PassengerId|Survived|\n",
      "+-------------------+--------------------+----+---+------+-------+-----------+--------+-----------+--------+\n",
      "|2020-01-01 13:39:12|Kimball, Mr. Edwi...|male| 42| 11753|52.5542|        D19|       S|        622|       1|\n",
      "|2020-01-01 13:43:40|Stead, Mr. Willia...|male| 62|113514|  26.55|        C87|       S|        253|       0|\n",
      "|2020-01-01 13:33:14|Soholt, Mr. Peter...|male| 19|348124|   7.65|      F G73|       S|        716|       0|\n",
      "|2020-01-01 13:33:36|Beesley, Mr. Lawr...|male| 34|248698|   13.0|        D56|       S|         22|       1|\n",
      "|2020-01-01 13:40:51|Carlsson, Mr. Fra...|male| 33|   695|    5.0|B51 B53 B55|       S|        873|       0|\n",
      "+-------------------+--------------------+----+---+------+-------+-----------+--------+-----------+--------+\n",
      "only showing top 5 rows\n",
      "\n"
     ]
    }
   ],
   "source": [
    "df_columns.show(5)"
   ]
  },
  {
   "cell_type": "code",
   "execution_count": 53,
   "id": "5e4bb873-761f-453e-8078-8b8016355ef4",
   "metadata": {},
   "outputs": [],
   "source": [
    "df_final = df_columns.withColumn(\"Age\",F.col(\"Age\").cast(IntegerType())) \\\n",
    "    .withColumn(\"Fare\",F.col(\"Fare\").cast(FloatType())) "
   ]
  },
  {
   "cell_type": "code",
   "execution_count": 54,
   "id": "ce397d5a-d4a7-4105-b5a6-2b147a5cf348",
   "metadata": {},
   "outputs": [
    {
     "data": {
      "text/plain": [
       "[('Timestamp', 'timestamp'),\n",
       " ('Name', 'string'),\n",
       " ('Sex', 'string'),\n",
       " ('Age', 'int'),\n",
       " ('Ticket', 'string'),\n",
       " ('Fare', 'float'),\n",
       " ('Cabin', 'string'),\n",
       " ('Embarked', 'string'),\n",
       " ('PassengerId', 'int'),\n",
       " ('Survived', 'int')]"
      ]
     },
     "execution_count": 54,
     "metadata": {},
     "output_type": "execute_result"
    }
   ],
   "source": [
    "df_final.dtypes"
   ]
  },
  {
   "cell_type": "code",
   "execution_count": null,
   "id": "a0480019-50eb-4916-adc7-e1800a7c2d3f",
   "metadata": {},
   "outputs": [],
   "source": [
    "df_final.write.json('json_data')"
   ]
  }
 ],
 "metadata": {
  "kernelspec": {
   "display_name": "Python 3 (ipykernel)",
   "language": "python",
   "name": "python3"
  },
  "language_info": {
   "codemirror_mode": {
    "name": "ipython",
    "version": 3
   },
   "file_extension": ".py",
   "mimetype": "text/x-python",
   "name": "python",
   "nbconvert_exporter": "python",
   "pygments_lexer": "ipython3",
   "version": "3.10.8"
  },
  "vscode": {
   "interpreter": {
    "hash": "916dbcbb3f70747c44a77c7bcd40155683ae19c65e1c03b4aa3499c5328201f1"
   }
  }
 },
 "nbformat": 4,
 "nbformat_minor": 5
}
